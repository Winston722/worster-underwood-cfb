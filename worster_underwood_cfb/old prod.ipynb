{
 "cells": [
  {
   "cell_type": "code",
   "execution_count": null,
   "id": "0",
   "metadata": {},
   "outputs": [],
   "source": [
    "%run \"wu old.py\""
   ]
  },
  {
   "cell_type": "code",
   "execution_count": null,
   "id": "1",
   "metadata": {},
   "outputs": [],
   "source": [
    "import time\n",
    "import cfbd\n",
    "from pprint import pprint\n",
    "import os\n",
    "from dotenv import load_dotenv\n",
    "import pandas as pd\n",
    "import numpy as np\n",
    "\n",
    "from cfbd.models.division_classification import DivisionClassification\n",
    "from cfbd.models.game import Game\n",
    "from cfbd.models.season_type import SeasonType\n",
    "from cfbd.rest import ApiException\n",
    "\n",
    "load_dotenv()\n",
    "# Defining the host is optional and defaults to https://api.collegefootballdata.com\n",
    "# See configuration.py for a list of all supported configuration parameters.\n",
    "configuration = cfbd.Configuration(\n",
    "    host = \"https://api.collegefootballdata.com\"\n",
    ")\n",
    "\n",
    "# The client must configure the authentication and authorization parameters\n",
    "# in accordance with the API server security policy.\n",
    "# Examples for each auth method are provided below, use the example that\n",
    "# satisfies your auth use case.\n",
    "\n",
    "# Configure Bearer authorization: apiKey\n",
    "configuration = cfbd.Configuration(\n",
    "    access_token = os.environ.get(\"CFBD_API_KEY\")\n",
    ")\n",
    "\n",
    "with cfbd.ApiClient(configuration) as api_client:\n",
    "    # Create an instance of the API class\n",
    "    api_instance = cfbd.GamesApi(api_client)\n",
    "    year = 2024 \n",
    "    division = cfbd.DivisionClassification('fbs')\n",
    "    \n",
    "    try:\n",
    "        api_response = api_instance.get_games(year=year, classification=division)\n",
    "        ly_api_response = api_instance.get_games(year=year-1, classification=division)\n",
    "    except Exception as e:\n",
    "        print(\"Exception when calling GamesApi->get_games: %s\\n\" % e)"
   ]
  },
  {
   "cell_type": "code",
   "execution_count": null,
   "id": "2",
   "metadata": {},
   "outputs": [],
   "source": [
    "schedule = add_weight(prepare_schedule(api_response))\n",
    "ratings = get_ratings(schedule)\n",
    "error = get_error(schedule, ratings)\n",
    "\n",
    "combined(ratings, error)\n",
    "\n"
   ]
  },
  {
   "cell_type": "code",
   "execution_count": null,
   "id": "3",
   "metadata": {},
   "outputs": [],
   "source": [
    "get_worster(api_response, ly_api_response)"
   ]
  },
  {
   "cell_type": "markdown",
   "id": "4",
   "metadata": {},
   "source": [
    "Last thing needed, subset the teams so that it is just FBS teams"
   ]
  }
 ],
 "metadata": {
  "kernelspec": {
   "display_name": "Python (WU CFB)",
   "language": "python",
   "name": "worster_underwood_cfb"
  },
  "language_info": {
   "codemirror_mode": {
    "name": "ipython",
    "version": 3
   },
   "file_extension": ".py",
   "mimetype": "text/x-python",
   "name": "python",
   "nbconvert_exporter": "python",
   "pygments_lexer": "ipython3",
   "version": "3.13.6"
  }
 },
 "nbformat": 4,
 "nbformat_minor": 5
}
