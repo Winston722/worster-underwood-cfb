{
 "cells": [
  {
   "cell_type": "code",
   "execution_count": null,
   "id": "25988e6c-a710-48fa-b0e9-78cd18f8476b",
   "metadata": {},
   "outputs": [],
   "source": []
  }
 ],
 "metadata": {
  "kernelspec": {
   "display_name": "Python (WU CFB)",
   "language": "python",
   "name": "worster_underwood_cfb"
  },
  "language_info": {
   "codemirror_mode": {
    "name": "ipython",
    "version": 3
   },
   "file_extension": ".py",
   "mimetype": "text/x-python",
   "name": "python",
   "nbconvert_exporter": "python",
   "pygments_lexer": "ipython3",
   "version": "3.13.3"
  }
 },
 "nbformat": 4,
 "nbformat_minor": 5
}
